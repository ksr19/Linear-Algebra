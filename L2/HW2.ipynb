{
 "cells": [
  {
   "cell_type": "markdown",
   "metadata": {},
   "source": [
    "# Матрицы и матричные операции. Часть 1"
   ]
  },
  {
   "cell_type": "code",
   "execution_count": 1,
   "metadata": {},
   "outputs": [],
   "source": [
    "import numpy as np\n",
    "import scipy.linalg"
   ]
  },
  {
   "cell_type": "markdown",
   "metadata": {},
   "source": [
    "__1.__ Установить, какие произведения матриц $AB$ и $BA$ определены, и найти размерности полученных матриц:\n",
    "\n",
    "   а) $A$ — матрица $4\\times 2$, $B$ — матрица $4\\times 2$;\n",
    "    \n",
    "   б) $A$ — матрица $2\\times 5$, $B$ — матрица $5\\times 3$;\n",
    "    \n",
    "   в) $A$ — матрица $8\\times 3$, $B$ — матрица $3\\times 8$;\n",
    "    \n",
    "   г) $A$ — квадратная матрица $4\\times 4$, $B$ — квадратная матрица $4\\times 4$."
   ]
  },
  {
   "cell_type": "markdown",
   "metadata": {},
   "source": [
    "Для того, чтобы произведение матриц _A_ и _B_ было определено необходимо, чтобы число столбцов матрицы $A$ было равно числу строк матрицы $B$. Тогда, <br>\n",
    "а) произведения матриц _AB_ и _BA_ не определены; <br>\n",
    "б) произведение матриц _AB_ определено, получившаяся матрица имеет размерность $2 \\times 3$. Произведение _BA_ не определено; <br>\n",
    "в) произведение матриц _AB_ определено, получившаяся матрица имеет размерность $8 \\times 8$. Произведение _BA_ определено, получившаяся матрица имеет размерность $3 \\times 3$; <br>\n",
    "г) произведение матриц _AB_ определено, получившаяся матрица имеет размерность $4 \\times 4$. Произведение _BA_ определено, получившаяся матрица имеет размерность $4 \\times 4$."
   ]
  },
  {
   "cell_type": "markdown",
   "metadata": {},
   "source": [
    "__2.__ Найти сумму и произведение матриц $A=\\begin{pmatrix}\n",
    "1 & -2\\\\ \n",
    "3 & 0\n",
    "\\end{pmatrix}$ и $B=\\begin{pmatrix}\n",
    "4 & -1\\\\ \n",
    "0 & 5\n",
    "\\end{pmatrix}.$"
   ]
  },
  {
   "cell_type": "markdown",
   "metadata": {},
   "source": [
    "### $$A+B =\\begin{pmatrix}\n",
    "1 & -2\\\\ \n",
    "3 & 0\n",
    "\\end{pmatrix} + \\begin{pmatrix}\n",
    "4 & -1\\\\ \n",
    "0 & 5\n",
    "\\end{pmatrix} = \\begin{pmatrix}\n",
    "5 & -3\\\\ \n",
    "3 & 5\n",
    "\\end{pmatrix}$$\n",
    "### $$AB =\\begin{pmatrix}\n",
    "1 & -2\\\\ \n",
    "3 & 0\n",
    "\\end{pmatrix} \\times \\begin{pmatrix}\n",
    "4 & -1\\\\ \n",
    "0 & 5\n",
    "\\end{pmatrix} = \\begin{pmatrix}\n",
    "1\\cdot4 -2\\cdot 0 & -1\\cdot1 -2\\cdot5\\\\ \n",
    "3\\cdot4+0\\cdot0 & -1\\cdot3+0\\cdot5\n",
    "\\end{pmatrix} = \\begin{pmatrix}\n",
    "4 & -11\\\\ \n",
    "12 & -3\n",
    "\\end{pmatrix}$$\n",
    "### $$BA =\\begin{pmatrix}\n",
    "4 & -1\\\\ \n",
    "0 & 5\n",
    "\\end{pmatrix} \\times  \\begin{pmatrix}\n",
    "1 & -2\\\\ \n",
    "3 & 0\n",
    "\\end{pmatrix}= \\begin{pmatrix}\n",
    "4\\cdot1 -1\\cdot 3 & -4\\cdot2 -1\\cdot0\\\\ \n",
    "0\\cdot1+5\\cdot3 & 0\\cdot(-2)+5\\cdot0\n",
    "\\end{pmatrix} = \\begin{pmatrix}\n",
    "1 & -8\\\\ \n",
    "15 & 0\n",
    "\\end{pmatrix}$$"
   ]
  },
  {
   "cell_type": "code",
   "execution_count": 2,
   "metadata": {},
   "outputs": [
    {
     "data": {
      "text/plain": [
       "array([[ 5, -3],\n",
       "       [ 3,  5]])"
      ]
     },
     "execution_count": 2,
     "metadata": {},
     "output_type": "execute_result"
    }
   ],
   "source": [
    "A = np.array([[1, -2], [3, 0]])\n",
    "B = np.array([[4, -1], [0, 5]])\n",
    "A+B"
   ]
  },
  {
   "cell_type": "code",
   "execution_count": 3,
   "metadata": {},
   "outputs": [
    {
     "data": {
      "text/plain": [
       "array([[  4, -11],\n",
       "       [ 12,  -3]])"
      ]
     },
     "execution_count": 3,
     "metadata": {},
     "output_type": "execute_result"
    }
   ],
   "source": [
    "A @ B"
   ]
  },
  {
   "cell_type": "code",
   "execution_count": 4,
   "metadata": {},
   "outputs": [
    {
     "data": {
      "text/plain": [
       "array([[ 1, -8],\n",
       "       [15,  0]])"
      ]
     },
     "execution_count": 4,
     "metadata": {},
     "output_type": "execute_result"
    }
   ],
   "source": [
    "B @ A"
   ]
  },
  {
   "cell_type": "markdown",
   "metadata": {},
   "source": [
    "__3.__ Из закономерностей сложения и умножения матриц на число можно сделать вывод, что матрицы одного размера образуют линейное пространство. Вычислить линейную комбинацию $3A-2B+4C$ для матриц $A=\\begin{pmatrix}\n",
    "1 & 7\\\\ \n",
    "3 & -6\n",
    "\\end{pmatrix}$, $B=\\begin{pmatrix}\n",
    "0 & 5\\\\ \n",
    "2 & -1\n",
    "\\end{pmatrix}$, $C=\\begin{pmatrix}\n",
    "2 & -4\\\\ \n",
    "1 & 1\n",
    "\\end{pmatrix}.$"
   ]
  },
  {
   "cell_type": "markdown",
   "metadata": {},
   "source": [
    "### $$3A-2B+4C=3\\cdot\\begin{pmatrix}\n",
    "1 & 7\\\\ \n",
    "3 & -6\n",
    "\\end{pmatrix}-2\\cdot\\begin{pmatrix}\n",
    "0 & 5\\\\ \n",
    "2 & -1\n",
    "\\end{pmatrix}+4\\cdot\\begin{pmatrix}\n",
    "2 & -4\\\\ \n",
    "1 & 1\n",
    "\\end{pmatrix} = \\begin{pmatrix}\n",
    "3\\cdot1-2\\cdot0+4\\cdot2 & 3\\cdot7-2\\cdot5+4\\cdot(-4)\\\\ \n",
    "3\\cdot3-2\\cdot2+4\\cdot1 & 3\\cdot(-6)-2\\cdot(-1)+4\\cdot1\n",
    "\\end{pmatrix} = \\begin{pmatrix}\n",
    "11 & -5\\\\ \n",
    "9 & -12\n",
    "\\end{pmatrix}$$"
   ]
  },
  {
   "cell_type": "code",
   "execution_count": 5,
   "metadata": {},
   "outputs": [
    {
     "data": {
      "text/plain": [
       "array([[ 11,  -5],\n",
       "       [  9, -12]])"
      ]
     },
     "execution_count": 5,
     "metadata": {},
     "output_type": "execute_result"
    }
   ],
   "source": [
    "A = np.array([[1, 7], [3, -6]])\n",
    "B = np.array([[0, 5], [2, -1]])\n",
    "C = np.array([[2, -4], [1, 1]])\n",
    "3*A-2*B+4*C"
   ]
  },
  {
   "cell_type": "markdown",
   "metadata": {},
   "source": [
    "__4.__ Дана матрица $A=\\begin{pmatrix}\n",
    "4 & 1\\\\ \n",
    "5 & -2\\\\ \n",
    "2 & 3\n",
    "\\end{pmatrix}$.\n",
    "Вычислить $AA^{T}$ и $A^{T}A$."
   ]
  },
  {
   "cell_type": "markdown",
   "metadata": {},
   "source": [
    "Сначала запишем транспонированную матрицу $A^T$:\n",
    "### $$A^T=\\begin{pmatrix}\n",
    "4 & 5 & 2\\\\ \n",
    "1 & -2 & 3\n",
    "\\end{pmatrix}$$\n",
    "Тогда, \n",
    "### $$AA^T=\\begin{pmatrix}\n",
    "4 & 1\\\\ \n",
    "5 & -2\\\\ \n",
    "2 & 3\n",
    "\\end{pmatrix}\\times\\begin{pmatrix}\n",
    "4 & 5 & 2\\\\ \n",
    "1 & -2 & 3\n",
    "\\end{pmatrix} = \\begin{pmatrix}\n",
    "4\\cdot4 + 1\\cdot1 & 4\\cdot5 + 1\\cdot(-2) & 4\\cdot2 + 1\\cdot3\\\\ \n",
    "5\\cdot4 - 2\\cdot1 & 5\\cdot5 - 2\\cdot(-2) & 5\\cdot2 - 2\\cdot3\\\\ \n",
    "2\\cdot4 + 3\\cdot1 & 2\\cdot5 + 3\\cdot(-2) & 2\\cdot2 + 3\\cdot3 \n",
    "\\end{pmatrix} = \\begin{pmatrix}\n",
    "17 & 18 & 11\\\\ \n",
    "18 & 29 & 4\\\\ \n",
    "11 & 4 & 13 \n",
    "\\end{pmatrix}$$\n",
    "### $$A^TA=\\begin{pmatrix}\n",
    "4 & 5 & 2\\\\ \n",
    "1 & -2 & 3\n",
    "\\end{pmatrix}\\times\\begin{pmatrix}\n",
    "4 & 1\\\\ \n",
    "5 & -2\\\\ \n",
    "2 & 3\n",
    "\\end{pmatrix} = \\begin{pmatrix}\n",
    "4\\cdot4 + 5\\cdot5 + 2\\cdot2 & 4\\cdot1 + 5\\cdot(-2) + 2\\cdot3\\\\ \n",
    "1\\cdot4 - 2\\cdot5 + 3\\cdot2 & 1\\cdot1 - 2\\cdot(-2) + 3\\cdot3 \n",
    "\\end{pmatrix} = \\begin{pmatrix}\n",
    "45 & 0 \\\\ \n",
    "0 & 14\n",
    "\\end{pmatrix}$$"
   ]
  },
  {
   "cell_type": "code",
   "execution_count": 6,
   "metadata": {},
   "outputs": [
    {
     "data": {
      "text/plain": [
       "array([[ 4,  5,  2],\n",
       "       [ 1, -2,  3]])"
      ]
     },
     "execution_count": 6,
     "metadata": {},
     "output_type": "execute_result"
    }
   ],
   "source": [
    "A = np.array([[4, 1], [5, -2], [2, 3]])\n",
    "A.T"
   ]
  },
  {
   "cell_type": "code",
   "execution_count": 7,
   "metadata": {},
   "outputs": [
    {
     "data": {
      "text/plain": [
       "array([[17, 18, 11],\n",
       "       [18, 29,  4],\n",
       "       [11,  4, 13]])"
      ]
     },
     "execution_count": 7,
     "metadata": {},
     "output_type": "execute_result"
    }
   ],
   "source": [
    "A @ A.T"
   ]
  },
  {
   "cell_type": "code",
   "execution_count": 8,
   "metadata": {},
   "outputs": [
    {
     "data": {
      "text/plain": [
       "array([[45,  0],\n",
       "       [ 0, 14]])"
      ]
     },
     "execution_count": 8,
     "metadata": {},
     "output_type": "execute_result"
    }
   ],
   "source": [
    "A.T @ A"
   ]
  },
  {
   "cell_type": "markdown",
   "metadata": {},
   "source": [
    "__5*.__ Написать на Python функцию для перемножения двух произвольных матриц, не используя NumPy."
   ]
  },
  {
   "cell_type": "code",
   "execution_count": 9,
   "metadata": {},
   "outputs": [],
   "source": [
    "def vector_product(a, b):\n",
    "    if len(a) != len(b):\n",
    "        return 'Произведение векторов не определено'\n",
    "    else:\n",
    "        result = 0\n",
    "        for i in range(len(a)):\n",
    "            if isinstance(a[i], (int, float)) and isinstance(b[i], (int, float)):\n",
    "                result += a[i]*b[i]\n",
    "            else:\n",
    "                return 'Произведение векторов не может быть рассчитано, попробуйте воспользоваться другой функцией'\n",
    "        return result\n",
    "\n",
    "\n",
    "def matrix_product(A, B):\n",
    "    rowsA = len(A)\n",
    "    columnsA = len(A[0])\n",
    "    rowsB = len(B)\n",
    "    columnsB = len(B[0])\n",
    "    \n",
    "    for i in range(1, rowsA):\n",
    "        if len(A[i]) != columnsA:\n",
    "            return 'Матрица A задана некорректно'\n",
    "        \n",
    "    for i in range(1, rowsB):\n",
    "        if len(B[i]) != columnsB:\n",
    "            return 'Матрица B задана некорректно'\n",
    "    \n",
    "    if columnsA != rowsB:\n",
    "        return 'Произведение матриц не определено'\n",
    "    \n",
    "    C = list()\n",
    "    B_T = list()\n",
    "    \n",
    "    for j in range(columnsB):\n",
    "            b_j = [B[k][j] for k in range(rowsB)]\n",
    "            B_T.append(b_j)\n",
    "    \n",
    "    \n",
    "    for i in range(rowsA):\n",
    "        c_i = list()\n",
    "        a_i = A[i]\n",
    "        for j in range(columnsB):\n",
    "            b_j = B_T[j]\n",
    "            c_i.append(vector_product(a_i, b_j))\n",
    "        C.append(c_i)\n",
    "\n",
    "\n",
    "    return C"
   ]
  },
  {
   "cell_type": "markdown",
   "metadata": {},
   "source": [
    "# Матрицы и матричные операции. Часть 2"
   ]
  },
  {
   "cell_type": "markdown",
   "metadata": {},
   "source": [
    "__1.__ Вычислить определитель:\n",
    "\n",
    "   a)\n",
    "\n",
    "$$\\begin{vmatrix}\n",
    "sinx & -cosx\\\\ \n",
    "cosx & sinx\n",
    "\\end{vmatrix};$$\n",
    "\n",
    "   б)\n",
    "    \n",
    "$$\\begin{vmatrix}\n",
    "4 & 2 & 3\\\\ \n",
    "0 & 5 & 1\\\\ \n",
    "0 & 0 & 9\n",
    "\\end{vmatrix};$$\n",
    "    \n",
    "   в)\n",
    "\n",
    "$$\\begin{vmatrix}\n",
    "1 & 2 & 3\\\\ \n",
    "4 & 5 & 6\\\\ \n",
    "7 & 8 & 9\n",
    "\\end{vmatrix}.$$"
   ]
  },
  {
   "cell_type": "markdown",
   "metadata": {},
   "source": [
    "a) $det A = sinx\\cdot sinx + cosx \\cdot cosx = sin^2x + cos^2x = 1;$ <br>\n",
    "б) Матрица треугольная, значит $det B = 4\\cdot5\\cdot9 = 180;$ <br>\n",
    "в) Последную строку матрицы можно представить, как разницу удвоенной второй строки и первой. Это значит, что третья строка является линейной зависимостью первых двух, а значит $det C = 0.$ Проверим рассчеты: \n",
    "### $$C =\\begin{vmatrix}\n",
    "1 & 2 & 3\\\\ \n",
    "4 & 5 & 6\\\\ \n",
    "7 & 8 & 9\n",
    "\\end{vmatrix} $$\n",
    "### $$det C = 1 \\cdot \\begin{vmatrix}\n",
    "5 & 6\\\\ \n",
    "8 & 9\n",
    "\\end{vmatrix} - 2 \\cdot \\begin{vmatrix}\n",
    "4 & 6\\\\ \n",
    "7 & 9\n",
    "\\end{vmatrix} + 3 \\cdot \\begin{vmatrix}\n",
    "4 & 5\\\\ \n",
    "7 & 8\n",
    "\\end{vmatrix} = 45 - 48 - 2\\cdot(36-42) + 3\\cdot(32-35) = -3 + 12 - 9 = 0.$$"
   ]
  },
  {
   "cell_type": "code",
   "execution_count": 10,
   "metadata": {},
   "outputs": [
    {
     "data": {
      "text/plain": [
       "1.0"
      ]
     },
     "execution_count": 10,
     "metadata": {},
     "output_type": "execute_result"
    }
   ],
   "source": [
    "x = 0.5\n",
    "A = np.array([[np.sin(x), -np.cos(x)], [np.cos(x), np.sin(x)]])\n",
    "np.linalg.det(A)"
   ]
  },
  {
   "cell_type": "code",
   "execution_count": 11,
   "metadata": {},
   "outputs": [
    {
     "data": {
      "text/plain": [
       "180.0"
      ]
     },
     "execution_count": 11,
     "metadata": {},
     "output_type": "execute_result"
    }
   ],
   "source": [
    "B = np.array([[4, 2, 3], [0, 5, 1], [0, 0, 9]])\n",
    "np.linalg.det(B)"
   ]
  },
  {
   "cell_type": "code",
   "execution_count": 12,
   "metadata": {},
   "outputs": [
    {
     "data": {
      "text/plain": [
       "0.0"
      ]
     },
     "execution_count": 12,
     "metadata": {},
     "output_type": "execute_result"
    }
   ],
   "source": [
    "C = np.array([[1, 2, 3], [4, 5, 6], [7, 8, 9]])\n",
    "np.linalg.det(C)"
   ]
  },
  {
   "cell_type": "markdown",
   "metadata": {},
   "source": [
    "__2.__ Определитель матрицы $A$ равен $4$. Найти:\n",
    "\n",
    "   а) $det(A^{2})$;\n",
    "    \n",
    "   б) $det(A^{T})$;\n",
    "    \n",
    "   в) $det(2A)$."
   ]
  },
  {
   "cell_type": "markdown",
   "metadata": {},
   "source": [
    "a) $det(A^2) = det(A\\times A) = detA\\cdot detA = 4^2 = 16;$<br>\n",
    "б) Согласно свойству определителей $detA^{T}=detA$, значит $detA^T = 4;$ <br>\n",
    "в) Для того, чтобы определить $det (2A)$ необходимо знать количество строк в матрице $A$. Например, если исходная матрица имеет вид $A = \\begin{vmatrix}\n",
    "1 & 0\\\\ \n",
    "0 & 4\n",
    "\\end{vmatrix}$, то матрица $2A = \\begin{vmatrix}\n",
    "2 & 0\\\\ \n",
    "0 & 8\n",
    "\\end{vmatrix}$, значит $det(2A) = 16$. Если же исходная матрица имела вид $A = \\begin{vmatrix}\n",
    "1 & 0 & 0\\\\ \n",
    "0 & 4 & 0\\\\\n",
    "0 & 0 & 1\n",
    "\\end{vmatrix}$, то матрица $2A$ будет выглядеть следующим образом $2A = \\begin{vmatrix}\n",
    "2 & 0 & 0\\\\ \n",
    "0 & 8 & 0\\\\\n",
    "0 & 0 & 2\n",
    "\\end{vmatrix}$ и $det(2A) = 32$. Таким образом, если матрица $A$ имеет размерность $m\\times n$, то $det(2A) = 4\\cdot2^m.$"
   ]
  },
  {
   "cell_type": "markdown",
   "metadata": {},
   "source": [
    "__3.__  Доказать, что матрица\n",
    "\n",
    "$$\\begin{pmatrix}\n",
    "-2 & 7 & -3\\\\ \n",
    "4 & -14 & 6\\\\ \n",
    "-3 & 7 & 13\n",
    "\\end{pmatrix}$$\n",
    "   \n",
    "вырожденная."
   ]
  },
  {
   "cell_type": "markdown",
   "metadata": {},
   "source": [
    "Умножим первую строку на $-2$. Получаем новую матрицу $B$, для которой $det B = -2detA$:\n",
    "### $$B = \\begin{pmatrix}\n",
    "4 & -14 & 6\\\\ \n",
    "4 & -14 & 6\\\\ \n",
    "-3 & 7 & 13\n",
    "\\end{pmatrix}$$"
   ]
  },
  {
   "cell_type": "markdown",
   "metadata": {},
   "source": [
    "Видим, что первая и вторая строки одинаковые, а значит по пятому свойству определителей $det B = 0 \\Rightarrow det A =0$. Значит, по определению матрица $A$ является вырожденной."
   ]
  },
  {
   "cell_type": "code",
   "execution_count": 13,
   "metadata": {},
   "outputs": [
    {
     "data": {
      "text/plain": [
       "0.0"
      ]
     },
     "execution_count": 13,
     "metadata": {},
     "output_type": "execute_result"
    }
   ],
   "source": [
    "A = np.array([[-2, 7, -3], [4, -14, 6], [-3, 7, 13]])\n",
    "np.linalg.det(A)"
   ]
  },
  {
   "cell_type": "markdown",
   "metadata": {},
   "source": [
    "__4.__ Найти ранг матрицы:\n",
    "\n",
    "   а) $\\begin{pmatrix}\n",
    "1 & 2 & 3\\\\ \n",
    "1 & 1 & 1\\\\ \n",
    "2 & 3 & 4\n",
    "\\end{pmatrix};$\n",
    "\n",
    "   б) $\\begin{pmatrix}\n",
    "0 & 0 & 2 & 1\\\\ \n",
    "0 & 0 & 2 & 2\\\\ \n",
    "0 & 0 & 4 & 3\\\\ \n",
    "2 & 3 & 5 & 6\n",
    "\\end{pmatrix}.$"
   ]
  },
  {
   "cell_type": "markdown",
   "metadata": {},
   "source": [
    "а) Третья строка является суммой первых двух, значит ранг матрица равен 2."
   ]
  },
  {
   "cell_type": "code",
   "execution_count": 14,
   "metadata": {},
   "outputs": [
    {
     "data": {
      "text/plain": [
       "2"
      ]
     },
     "execution_count": 14,
     "metadata": {},
     "output_type": "execute_result"
    }
   ],
   "source": [
    "A = np.array([[1, 2, 3], [1, 1, 1], [2, 3, 4]])\n",
    "np.linalg.matrix_rank(A)"
   ]
  },
  {
   "cell_type": "markdown",
   "metadata": {},
   "source": [
    "б) Третья строка является суммой первых двух, значит ранг матрица равен 3."
   ]
  },
  {
   "cell_type": "code",
   "execution_count": 15,
   "metadata": {},
   "outputs": [
    {
     "data": {
      "text/plain": [
       "3"
      ]
     },
     "execution_count": 15,
     "metadata": {},
     "output_type": "execute_result"
    }
   ],
   "source": [
    "B = np.array([[0, 0, 2, 1], [0, 0, 2, 2], [0, 0, 4, 3], [2, 3, 5, 6]])\n",
    "np.linalg.matrix_rank(B)"
   ]
  },
  {
   "cell_type": "markdown",
   "metadata": {},
   "source": [
    "__5.__ Написать на Python функцию для расчета определителя матрицы по первому алгоритму."
   ]
  },
  {
   "cell_type": "code",
   "execution_count": 16,
   "metadata": {},
   "outputs": [],
   "source": [
    "def matrix_det(A):\n",
    "    rowsA = len(A)\n",
    "    columnsA = len(A[0])\n",
    "    \n",
    "    for i in range(1, rowsA):\n",
    "        if len(A[i]) != columnsA:\n",
    "            return 'Матрица A задана некорректно'\n",
    "        \n",
    "    if rowsA != columnsA:\n",
    "        return 'Определитель может быть рассчитан только для квадратной матрицы'\n",
    "    \n",
    "    if rowsA == 1:\n",
    "        return A[0]\n",
    "    elif rowsA == 2:\n",
    "        det = A[0][0] * A[1][1] - A[0][1]*A[1][0]\n",
    "        return det\n",
    "    else:\n",
    "        det = 0\n",
    "        for i in range(columnsA):\n",
    "            B = A[1:]\n",
    "            for j in range(rowsA-1):\n",
    "                B[j] = B[j][:i] + B[j][i+1:]\n",
    "            det += (-1)**(i+2) * matrix_det(B) * A[0][i]\n",
    "        return det"
   ]
  }
 ],
 "metadata": {
  "kernelspec": {
   "display_name": "Python 3",
   "language": "python",
   "name": "python3"
  },
  "language_info": {
   "codemirror_mode": {
    "name": "ipython",
    "version": 3
   },
   "file_extension": ".py",
   "mimetype": "text/x-python",
   "name": "python",
   "nbconvert_exporter": "python",
   "pygments_lexer": "ipython3",
   "version": "3.8.6"
  }
 },
 "nbformat": 4,
 "nbformat_minor": 4
}
